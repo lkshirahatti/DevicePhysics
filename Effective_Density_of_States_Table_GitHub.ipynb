{
 "cells": [
  {
   "cell_type": "markdown",
   "id": "2bcff050",
   "metadata": {},
   "source": [
    "### Effective Density of States Function and Effective Mass Values\n",
    "\n",
    "| Material              | $N_c$ (cm$^{-3}$)         | $N_v$ (cm$^{-3}$)         | $m_n^*/m_0$ | $m_p^*/m_0$ |\n",
    "|-----------------------|---------------------------|---------------------------|-------------|-------------|\n",
    "| **Silicon (Si)**      | $2.8 \\times 10^{19}$      | $1.04 \\times 10^{19}$     | 1.08        | 0.56        |\n",
    "| **Gallium Arsenide**  | $4.7 \\times 10^{17}$      | $7.0 \\times 10^{18}$      | 0.067       | 0.48        |\n",
    "| **Germanium (Ge)**    | $1.04 \\times 10^{19}$     | $6.0 \\times 10^{18}$      | 0.55        | 0.37        |\n",
    "| **Indium Phosphide**  | $5.7 \\times 10^{17}$      | $1.1 \\times 10^{19}$      | 0.077       | 0.60        |\n",
    "| **Silicon Carbide (4H-SiC)** | $1.6 \\times 10^{19}$ | $2.5 \\times 10^{19}$ | 0.29        | 0.67        |\n",
    "| **Gallium Nitride (GaN)** | $2.3 \\times 10^{18}$   | $1.8 \\times 10^{19}$      | 0.20        | 0.80        |\n",
    "| **Cadmium Telluride (CdTe)** | $8.0 \\times 10^{17}$ | $1.8 \\times 10^{19}$ | 0.11        | 0.35        |\n",
    "| **Zinc Oxide (ZnO)**  | $4.0 \\times 10^{18}$      | $1.8 \\times 10^{19}$      | 0.28        | 0.59        |\n",
    "| **Aluminum Arsenide (AlAs)** | $2.2 \\times 10^{18}$ | $1.4 \\times 10^{19}$ | 0.15        | 0.70        |\n",
    "| **Indium Arsenide (InAs)** | $1.2 \\times 10^{17}$   | $1.8 \\times 10^{19}$      | 0.023       | 0.41        |\n",
    "\n",
    "> 📚 Sources: S.M. Sze, Neamen, Ioffe Institute, peer-reviewed journals\n"
   ]
  },
  {
   "cell_type": "code",
   "execution_count": null,
   "id": "4d6e4c2e-82d0-4ea4-afc3-6d628387fde1",
   "metadata": {},
   "outputs": [],
   "source": []
  }
 ],
 "metadata": {
  "kernelspec": {
   "display_name": "Python 3 (ipykernel)",
   "language": "python",
   "name": "python3"
  },
  "language_info": {
   "codemirror_mode": {
    "name": "ipython",
    "version": 3
   },
   "file_extension": ".py",
   "mimetype": "text/x-python",
   "name": "python",
   "nbconvert_exporter": "python",
   "pygments_lexer": "ipython3",
   "version": "3.10.12"
  }
 },
 "nbformat": 4,
 "nbformat_minor": 5
}
