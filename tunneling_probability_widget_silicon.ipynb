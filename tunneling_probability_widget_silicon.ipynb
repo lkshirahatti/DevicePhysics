{
 "cells": [
  {
  "cell_type": "markdown",
  "id": "aa874963",
  "metadata": {},
  "source": [
    "# Quantum Tunneling Probability Explorer (Silicon)\n",
    "\n",
    "This notebook uses a widget-based interface to explore the tunneling probability of an electron in silicon as a function of:\n",
    "- **Barrier height** $V_0$\n",
    "- **Electron energy** $E$\n",
    "- **Barrier width** $a$\n",
    "- **Effective mass** $m^*$\n",
    "\n",
    "Tunneling probability is calculated using:\n",
    "\n",
    "$$\n",
    "T \\approx 16 \\left( \\frac{E}{V_0} \\right) \\left( 1 - \\frac{E}{V_0} \\right) \\exp(-2ka)\n",
    "$$\n",
    "\n",
    "Where:\n",
    "\n",
    "$$\n",
    "k = \\sqrt{\\frac{2m^*(V_0 - E)}{\\hbar^2}}\n",
    "$$\n"
  ]
},
  {
   "cell_type": "code",
   "execution_count": 1,
   "id": "d528eb51",
   "metadata": {},
   "outputs": [],
   "source": [
    "\n",
    "import numpy as np\n",
    "import matplotlib.pyplot as plt\n",
    "from scipy.constants import hbar, m_e, electron_volt\n",
    "import ipywidgets as widgets\n",
    "from IPython.display import display\n",
    "\n",
    "def tunneling_probability(E, V0, a, m_eff):\n",
    "    # Convert all to SI units\n",
    "    E *= electron_volt\n",
    "    V0 *= electron_volt\n",
    "    a *= 1e-10  # Å to meters\n",
    "    m_eff *= m_e\n",
    "    if E >= V0:\n",
    "        return 1.0  # no tunneling, full transmission\n",
    "    k = np.sqrt(2 * m_eff * (V0 - E)) / hbar\n",
    "    T = 16 * (E / V0) * (1 - E / V0) * np.exp(-2 * k * a)\n",
    "    return T\n"
   ]
  },
  {
   "cell_type": "code",
   "execution_count": 4,
   "id": "ee0bb4cc",
   "metadata": {},
   "outputs": [
    {
     "data": {
      "application/vnd.jupyter.widget-view+json": {
       "model_id": "fbafaf86a6084e70a2172b8cf881dd17",
       "version_major": 2,
       "version_minor": 0
      },
      "text/plain": [
       "interactive(children=(FloatSlider(value=3.0, description='V₀ (eV)', max=10.0, min=1.0), FloatSlider(value=1.0,…"
      ]
     },
     "metadata": {},
     "output_type": "display_data"
    },
    {
     "data": {
      "text/plain": [
       "<function __main__.update_plot(V0, E, m_star)>"
      ]
     },
     "execution_count": 4,
     "metadata": {},
     "output_type": "execute_result"
    }
   ],
   "source": [
    "\n",
    "# Define interactive widgets\n",
    "V0_slider = widgets.FloatSlider(value=3.0, min=1.0, max=10.0, step=0.1, description='V₀ (eV)')\n",
    "E_slider = widgets.FloatSlider(value=1.0, min=0.1, max=4.9, step=0.1, description='E (eV)')\n",
    "m_slider = widgets.FloatSlider(value=0.26, min=0.01, max=1.0, step=0.01, description='m*/mₑ')\n",
    "\n",
    "def update_plot(V0, E, m_star):\n",
    "    widths_A = np.linspace(2, 30, 300)\n",
    "    T_values = [tunneling_probability(E, V0, a, m_star) for a in widths_A]\n",
    "\n",
    "    plt.figure(figsize=(8, 5))\n",
    "    plt.plot(widths_A, T_values, color='darkred')\n",
    "    plt.yscale(\"log\")\n",
    "    plt.xlabel(\"Barrier Width (Å)\")\n",
    "    plt.ylabel(\"Tunneling Probability (log scale)\")\n",
    "    plt.title(f\"Tunneling Probability vs Barrier Width(E={E:.1f} eV, V₀={V0:.1f} eV, m*={m_star:.2f} mₑ)\")\n",
    "    plt.grid(True, which=\"both\", linestyle=\"--\", linewidth=0.5)\n",
    "    plt.tight_layout()\n",
    "    plt.show()\n",
    "\n",
    "widgets.interact(update_plot, V0=V0_slider, E=E_slider, m_star=m_slider)\n"
   ]
  },
  {
   "cell_type": "code",
   "execution_count": null,
   "id": "6bb122a5-2d4b-4f5c-95c3-7c3238e5d3d8",
   "metadata": {},
   "outputs": [],
   "source": []
  }
 ],
 "metadata": {
  "kernelspec": {
   "display_name": "Python 3 (ipykernel)",
   "language": "python",
   "name": "python3"
  },
  "language_info": {
   "codemirror_mode": {
    "name": "ipython",
    "version": 3
   },
   "file_extension": ".py",
   "mimetype": "text/x-python",
   "name": "python",
   "nbconvert_exporter": "python",
   "pygments_lexer": "ipython3",
   "version": "3.10.12"
  }
 },
 "nbformat": 4,
 "nbformat_minor": 5
}
