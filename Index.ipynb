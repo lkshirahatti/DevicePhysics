{
 "cells": [
  {
   "cell_type": "markdown",
   "id": "9571b26f",
   "metadata": {},
   "source": [
    "# 📘 Index of Jupyter Notebooks in DevicePhysics Repository\n",
    "\n",
    "- [Conductivity Resistivity](./Conductivity_Resistivity.ipynb)\n",
    "- [Diffusion Current Density](./Diffusion_Current_Density.ipynb)\n",
    "- [Drift Current Overview](./Drift_Current_Overview.ipynb)\n",
    "- [Effective Density of States Table GitHub](./Effective_Density_of_States_Table_GitHub.ipynb)\n",
    "- [Einstein Relation Semiconductors](./Einstein_Relation_Semiconductors.ipynb)\n",
    "- [Fermi Level vs Doping Concentration](./Fermi_Level_vs_Doping_Concentration.ipynb)\n",
    "- [GaAs Negative Differential Mobility](./GaAs_Negative_Differential_Mobility.ipynb)\n",
    "- [Graded Impurity Distribution Induced E Field](./Graded_Impurity_Distribution_Induced_E_Field.ipynb)\n",
    "- [Hall Effect Semiconductors](./Hall_Effect_Semiconductors.ipynb)\n",
    "- [Intrinsic Carrier Concentration EgT](./Intrinsic_Carrier_Concentration_EgT.ipynb)\n",
    "- [Resistivity vs Impurity Silicon 300K](./Resistivity_vs_Impurity_Silicon_300K.ipynb)\n",
    "- [Semiconductor Resistor Design](./Semiconductor_Resistor_Design.ipynb)\n",
    "- [SiliconVolumeSurfaceDensity](./SiliconVolumeSurfaceDensity.ipynb)\n",
    "- [Silicon Probability Occupation Conduction](./Silicon_Probability_Occupation_Conduction.ipynb)\n",
    "- [one electron energy levels](./one_electron_energy_levels.ipynb)\n",
    "- [thermal energy vs temperature](./thermal_energy_vs_temperature.ipynb)\n",
    "- [tunneling probability widget silicon](./tunneling_probability_widget_silicon.ipynb)\n",
    "- [velocity saturation summary](./velocity_saturation_summary.ipynb)"
   ]
  },
  {
   "cell_type": "code",
   "execution_count": null,
   "id": "8115b0d6-e9cc-4fca-adad-58016894acfa",
   "metadata": {},
   "outputs": [],
   "source": []
  }
 ],
 "metadata": {
  "kernelspec": {
   "display_name": "Python 3 (ipykernel)",
   "language": "python",
   "name": "python3"
  },
  "language_info": {
   "codemirror_mode": {
    "name": "ipython",
    "version": 3
   },
   "file_extension": ".py",
   "mimetype": "text/x-python",
   "name": "python",
   "nbconvert_exporter": "python",
   "pygments_lexer": "ipython3",
   "version": "3.10.12"
  }
 },
 "nbformat": 4,
 "nbformat_minor": 5
}
