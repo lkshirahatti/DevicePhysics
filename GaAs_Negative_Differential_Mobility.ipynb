{
 "cells": [
  {
   "cell_type": "markdown",
   "id": "24037472",
   "metadata": {},
   "source": [
    "\n",
    "# Understanding Negative Differential Mobility in Gallium Arsenide (GaAs)\n",
    "\n",
    "This notebook explains the unique **drift velocity vs electric field** characteristics of **Gallium Arsenide (GaAs)** at **T = 300 K**, including the concept of **negative differential mobility (NDM)** and its physical origin.\n",
    "\n",
    "---\n",
    "\n",
    "## 1. Overview\n",
    "\n",
    "At **low electric fields**, GaAs shows high **electron mobility** due to the low **effective mass** in the **lower valley** of its conduction band:\n",
    "- $$\\mu_n \\approx 8500\\ \\text{cm}^2/\\text{V·s}$$\n",
    "\n",
    "At **high electric fields**, the drift velocity reaches a **peak** and then **decreases**, a behavior known as **velocity saturation** followed by **negative differential mobility** (NDM).\n",
    "\n",
    "---\n",
    "\n",
    "## 2. Band Structure and Valley Transfer\n",
    "\n",
    "- **GaAs conduction band** has two valleys:\n",
    "  - **Lower valley** with effective mass $$m^*_1 = 0.067 m_0$$\n",
    "  - **Upper valley** with $$m^*_2 = 0.55 m_0$$\n",
    "- At high E-fields, electrons gain energy and **scatter from lower to upper valley**, which has a:\n",
    "  - Higher density of states\n",
    "  - **Lower mobility** due to **larger effective mass**\n",
    "\n",
    "This **intervalley transfer** reduces the average drift velocity, creating a region of **negative differential mobility**.\n",
    "\n",
    "The negative differential mobility produces a negative differential resistance; this characteristic is used in the design of oscillators.\n",
    "\n",
    "![GaAs Band Diagram](https://github.com/lkshirahatti/DevicePhysics/blob/main/Images/Image_GaAs.png?raw=true)\n"
   ]
  },
  {
   "cell_type": "code",
   "execution_count": null,
   "id": "9ad79f1c-5fae-48c2-abcd-aeef5aff69cc",
   "metadata": {},
   "outputs": [],
   "source": []
  }
 ],
 "metadata": {
  "kernelspec": {
   "display_name": "Python 3 (ipykernel)",
   "language": "python",
   "name": "python3"
  },
  "language_info": {
   "codemirror_mode": {
    "name": "ipython",
    "version": 3
   },
   "file_extension": ".py",
   "mimetype": "text/x-python",
   "name": "python",
   "nbconvert_exporter": "python",
   "pygments_lexer": "ipython3",
   "version": "3.10.12"
  }
 },
 "nbformat": 4,
 "nbformat_minor": 5
}
