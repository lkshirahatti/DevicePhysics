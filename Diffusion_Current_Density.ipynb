{
 "cells": [
  {
   "cell_type": "markdown",
   "id": "99b40a2d",
   "metadata": {},
   "source": [
    "# Diffusion Current Density in Semiconductors"
   ]
  },
  {
   "cell_type": "markdown",
   "id": "3c1fbb1e",
   "metadata": {},
   "source": [
    "\n",
    "## Diffusion Current Equations\n",
    "\n",
    "For a one-dimensional case:\n",
    "\n",
    "- **Electron diffusion current density**:\n",
    "$$\n",
    "J_{n|diff} = e D_n \\frac{dn}{dx}\n",
    "$$\n",
    "\n",
    "- **Hole diffusion current density**:\n",
    "$$\n",
    "J_{p|diff} = - e D_p \\frac{dp}{dx}\n",
    "$$\n",
    "\n",
    "Where:\n",
    "- $J_{n|diff}, J_{p|diff}$: Diffusion current densities for electrons and holes\n",
    "- $e$: Electronic charge ($1.6 \\times 10^{-19}$ C)\n",
    "- $D_n, D_p$: Diffusion coefficients for electrons and holes (cm²/s)\n",
    "- $n, p$: Electron and hole concentrations\n",
    "- $\\frac{dn}{dx}, \\frac{dp}{dx}$: Carrier concentration gradients\n"
   ]
  },
  {
   "cell_type": "markdown",
   "id": "ff4b6d8e",
   "metadata": {},
   "source": [
    "\n",
    "## Design Example: Calculate the Diffusion Current Density\n",
    "\n",
    "**Objective:**  \n",
    "Calculate the diffusion current density given a density gradient.\n",
    "\n",
    "Given:  \n",
    "- $T = 300\\,\\text{K}$\n",
    "- Electron concentration changes from $1 \\times 10^{18}\\,\\text{cm}^{-3}$ to $7 \\times 10^{17}\\,\\text{cm}^{-3}$ over $\\Delta x = 0.10\\,\\text{cm}$\n",
    "- Electron diffusion coefficient $D_n = 225\\,\\text{cm}^2/\\text{s}$\n",
    "\n",
    "The diffusion current density is:\n",
    "\n",
    "$$\n",
    "J_{n|diff} = e D_n \\frac{\\Delta n}{\\Delta x}\n",
    "= (1.6 \\times 10^{-19})(225) \\left( \\frac{1 \\times 10^{18} - 7 \\times 10^{17}}{0.10} \\right)\n",
    "$$\n",
    "\n",
    "### Calculation\n"
   ]
  },
  {
   "cell_type": "code",
   "execution_count": 1,
   "id": "0634efa3",
   "metadata": {},
   "outputs": [
    {
     "name": "stdout",
     "output_type": "stream",
     "text": [
      "Diffusion current density: 1.08e+02 A/cm²\n"
     ]
    }
   ],
   "source": [
    "\n",
    "e = 1.6e-19  # C\n",
    "Dn = 225     # cm^2/s\n",
    "n1 = 1e18    # cm^-3\n",
    "n2 = 7e17    # cm^-3\n",
    "dx = 0.10    # cm\n",
    "\n",
    "delta_n = n1 - n2\n",
    "J_diff = e * Dn * (delta_n / dx)  # A/cm^2\n",
    "\n",
    "print(f\"Diffusion current density: {J_diff:.2e} A/cm²\")\n"
   ]
  },
  {
   "cell_type": "markdown",
   "id": "f0852982",
   "metadata": {},
   "source": [
    "\n",
    "**Comment:**  \n",
    "A significant diffusion current density can be generated in a semiconductor material with only a modest density gradient.\n"
   ]
  },
  {
   "cell_type": "markdown",
   "id": "c845cda6-cd42-465d-a8bc-a4c035b90700",
   "metadata": {},
   "source": [
    "We now have four possible independent current mechanisms in a semiconductor.  \n",
    "These components are:\n",
    "- Electron drift current\n",
    "- Hole drift current\n",
    "- Electron diffusion current\n",
    "- Hole diffusion current\n",
    "\n",
    "The **total current density** is the sum of these four components.\n",
    "\n",
    "\n",
    "### One-dimensional expression\n",
    "\n",
    "$$\n",
    "J = en\\mu_n E_x + ep\\mu_p E_x + eD_n \\frac{dn}{dx} - eD_p \\frac{dp}{dx} \n",
    "$$\n",
    "\n"
   ]
  },
  {
   "cell_type": "code",
   "execution_count": null,
   "id": "c2d61368-6f97-4caf-8ebc-561a1cc969d1",
   "metadata": {},
   "outputs": [],
   "source": []
  }
 ],
 "metadata": {
  "kernelspec": {
   "display_name": "Python 3 (ipykernel)",
   "language": "python",
   "name": "python3"
  },
  "language_info": {
   "codemirror_mode": {
    "name": "ipython",
    "version": 3
   },
   "file_extension": ".py",
   "mimetype": "text/x-python",
   "name": "python",
   "nbconvert_exporter": "python",
   "pygments_lexer": "ipython3",
   "version": "3.10.12"
  }
 },
 "nbformat": 4,
 "nbformat_minor": 5
}
