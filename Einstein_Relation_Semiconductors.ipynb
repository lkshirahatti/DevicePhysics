{
 "cells": [
  {
   "cell_type": "markdown",
   "id": "e1d89e93",
   "metadata": {},
   "source": [
    "# **Einstein Relation in Semiconductor Physics**"
   ]
  },
  {
   "cell_type": "markdown",
   "id": "d541bab2",
   "metadata": {},
   "source": [
    "\n",
    "This notebook explains the **Einstein Relation** that links mobility and diffusion coefficient in semiconductors. \n",
    "\n",
    "We begin with the condition for thermal equilibrium and derive the relation:\n"
   ]
  },
  {
   "cell_type": "markdown",
   "id": "f19b8342",
   "metadata": {},
   "source": [
    "\n",
    "From thermal equilibrium and no external bias, the current density must be zero:\n",
    "$$\n",
    "J_n = 0 = e \\mu_n n E_x + e D_n \\frac{dn}{dx}\n",
    "$$\n",
    "Assuming quasi-neutrality: \\($ n \\approx N_d(x)$ \\), we get:\n",
    "$$\n",
    "J_n = 0 = e \\mu_n N_d(x) E_x + e D_n \\frac{dN_d(x)}{dx}\n",
    "$$\n"
   ]
  },
  {
   "cell_type": "markdown",
   "id": "ea2d904a",
   "metadata": {},
   "source": [
    "\n",
    "From earlier derivation:\n",
    "$$\n",
    "E_x = -\\left( \\frac{kT}{e} \\right) \\frac{1}{N_d(x)} \\frac{dN_d(x)}{dx}\n",
    "$$\n",
    "\n",
    "Substituting into the current density:\n",
    "$$\n",
    "0 = -e \\mu_n N_d(x) \\left( \\frac{kT}{e} \\right) \\frac{1}{N_d(x)} \\frac{dN_d(x)}{dx} + e D_n \\frac{dN_d(x)}{dx}\n",
    "$$\n",
    "\n",
    "For electrons:\n",
    "\n",
    "$$\n",
    "\\frac{D_n}{\\mu_n} = \\frac{kT}{e}\n",
    "$$\n",
    "This also holds for holes:\n",
    "$$\n",
    "\\frac{D_p}{\\mu_p} = \\frac{kT}{e}\n",
    "$$\n",
    "\n",
    "We obtain the **Einstein Relation**:\n",
    "$$\n",
    "\\frac{D_n}{\\mu_n} = \\frac{D_p}{\\mu_p} = \\frac{kT}{e}\n",
    "$$\n"
   ]
  },
  {
   "cell_type": "markdown",
   "id": "fb4fb7c4",
   "metadata": {},
   "source": [
    "## Example: Calculate the Diffusion Coefficient given Mobility"
   ]
  },
  {
   "cell_type": "markdown",
   "id": "187fd694",
   "metadata": {},
   "source": [
    "\n",
    "Given:  \n",
    "- Mobility \\( $\\mu$ = 1000 \\, ${cm}^2$/V·s \\)  \n",
    "- Temperature \\( T = 300 \\, K \\)  \n",
    "- Boltzmann constant \\( k = 1.38 x $10^{-23}$ \\, J/K \\)  \n",
    "- Elementary charge \\( e = 1.6 x $10^{-19}$ \\, C \\)\n",
    "\n",
    "Using the Einstein relation:\n",
    "$$\n",
    "D = \\left( \\frac{kT}{e} \\right) \\mu\n",
    "$$\n"
   ]
  },
  {
   "cell_type": "code",
   "execution_count": 1,
   "id": "b98c055f",
   "metadata": {},
   "outputs": [
    {
     "data": {
      "text/plain": [
       "25.875000000000004"
      ]
     },
     "execution_count": 1,
     "metadata": {},
     "output_type": "execute_result"
    }
   ],
   "source": [
    "\n",
    "# Constants\n",
    "k = 1.38e-23  # J/K\n",
    "T = 300       # K\n",
    "e = 1.6e-19   # C\n",
    "mu = 1000     # cm^2/V·s\n",
    "\n",
    "# Calculate diffusion coefficient\n",
    "D = (k * T / e) * mu\n",
    "D\n"
   ]
  },
  {
   "cell_type": "markdown",
   "id": "78d6d269",
   "metadata": {},
   "source": [
    "\n",
    "### Conclusion:\n",
    "The Einstein relation shows that **mobility and diffusion coefficient are not independent**. This is crucial for understanding charge transport in semiconductors.\n"
   ]
  },
  {
   "cell_type": "code",
   "execution_count": null,
   "id": "7961faef-9d8b-4b15-bc20-46738836e131",
   "metadata": {},
   "outputs": [],
   "source": []
  }
 ],
 "metadata": {
  "kernelspec": {
   "display_name": "Python 3 (ipykernel)",
   "language": "python",
   "name": "python3"
  },
  "language_info": {
   "codemirror_mode": {
    "name": "ipython",
    "version": 3
   },
   "file_extension": ".py",
   "mimetype": "text/x-python",
   "name": "python",
   "nbconvert_exporter": "python",
   "pygments_lexer": "ipython3",
   "version": "3.10.12"
  }
 },
 "nbformat": 4,
 "nbformat_minor": 5
}
