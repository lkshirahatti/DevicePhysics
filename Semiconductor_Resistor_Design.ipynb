{
 "cells": [
  {
   "cell_type": "markdown",
   "id": "d4cf171b",
   "metadata": {},
   "source": [
    "# Semiconductor Resistor Design\n",
    "### Objective\n",
    "Design a semiconductor resistor with a specified resistance to handle a given current density.\n",
    "A silicon semiconductor at $T = 300\\,K$ is initially doped with donors at a concentration of:\n",
    "$$N_d = 5 \\times 10^{15}\\ \\text{cm}^{-3}$$\n",
    "Acceptors are added to form a compensated p-type material.\n",
    "The resistor is to have a resistance of $10\\,k\\Omega$ and handle a current density of $50\\,\\text{A/cm}^2$ when $5\\,V$ is applied."
   ]
  },
  {
   "cell_type": "code",
   "execution_count": 1,
   "id": "d04be9ff",
   "metadata": {},
   "outputs": [
    {
     "data": {
      "text/plain": [
       "(0.0005, 0.5)"
      ]
     },
     "execution_count": 1,
     "metadata": {},
     "output_type": "execute_result"
    }
   ],
   "source": [
    "# Given values\n",
    "V = 5  # Volts\n",
    "R = 10e3  # Ohms\n",
    "J = 50  # A/cm^2\n",
    "\n",
    "# Total current\n",
    "I = V / R  # Amperes\n",
    "I_mA = I * 1e3  # in mA\n",
    "I, I_mA"
   ]
  },
  {
   "cell_type": "code",
   "execution_count": 2,
   "id": "d192a8cf",
   "metadata": {},
   "outputs": [
    {
     "data": {
      "text/plain": [
       "1e-05"
      ]
     },
     "execution_count": 2,
     "metadata": {},
     "output_type": "execute_result"
    }
   ],
   "source": [
    "# Cross-sectional area A = I / J\n",
    "A = I / J  # in cm^2\n",
    "A"
   ]
  },
  {
   "cell_type": "code",
   "execution_count": 3,
   "id": "64a0dcaa",
   "metadata": {},
   "outputs": [
    {
     "data": {
      "text/plain": [
       "0.05"
      ]
     },
     "execution_count": 3,
     "metadata": {},
     "output_type": "execute_result"
    }
   ],
   "source": [
    "# Assume E = 100 V/cm\n",
    "E = 100  # V/cm\n",
    "L = V / E  # in cm\n",
    "L"
   ]
  },
  {
   "cell_type": "code",
   "execution_count": 4,
   "id": "4eb4205d",
   "metadata": {},
   "outputs": [
    {
     "data": {
      "text/plain": [
       "0.5"
      ]
     },
     "execution_count": 4,
     "metadata": {},
     "output_type": "execute_result"
    }
   ],
   "source": [
    "# Conductivity σ = L / (R * A)\n",
    "σ = L / (R * A)  # in (Ω·cm)^-1\n",
    "σ"
   ]
  },
  {
   "cell_type": "markdown",
   "id": "f1de33b5",
   "metadata": {},
   "source": [
    "### Compensated p-type Semiconductor\n",
    "The conductivity of a compensated p-type semiconductor is approximated by:\n",
    "$$ \\sigma \\approx e \\mu_p (N_a - N_d) $$\n",
    "Given:\n",
    "$$ \\mu_p = 410\\ \\text{cm}^2/\\text{V·s} \\quad e = 1.6 \\times 10^{-19}\\ \\text{C} $$\n",
    "$$ N_a = 1.25 \\times 10^{16}\\ \\text{cm}^{-3} \\quad N_d = 5 \\times 10^{15}\\ \\text{cm}^{-3} $$"
   ]
  },
  {
   "cell_type": "code",
   "execution_count": 5,
   "id": "2186111c",
   "metadata": {},
   "outputs": [
    {
     "data": {
      "text/plain": [
       "0.492"
      ]
     },
     "execution_count": 5,
     "metadata": {},
     "output_type": "execute_result"
    }
   ],
   "source": [
    "# Constants\n",
    "e = 1.6e-19  # C\n",
    "μ_p = 410  # cm^2/V·s\n",
    "N_a = 1.25e16  # cm^-3\n",
    "N_d = 5e15  # cm^-3\n",
    "\n",
    "# Conductivity from hole mobility\n",
    "σ_expected = e * μ_p * (N_a - N_d)\n",
    "σ_expected"
   ]
  },
  {
   "cell_type": "code",
   "execution_count": null,
   "id": "08c8004a-1b57-4adc-a657-6d7a1df5aa53",
   "metadata": {},
   "outputs": [],
   "source": []
  }
 ],
 "metadata": {
  "kernelspec": {
   "display_name": "Python 3 (ipykernel)",
   "language": "python",
   "name": "python3"
  },
  "language_info": {
   "codemirror_mode": {
    "name": "ipython",
    "version": 3
   },
   "file_extension": ".py",
   "mimetype": "text/x-python",
   "name": "python",
   "nbconvert_exporter": "python",
   "pygments_lexer": "ipython3",
   "version": "3.10.12"
  }
 },
 "nbformat": 4,
 "nbformat_minor": 5
}
