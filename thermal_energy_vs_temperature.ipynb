{
 "cells": [
  {
   "cell_type": "markdown",
   "id": "23a93630",
   "metadata": {},
   "source": [
    "# Thermal Energy vs Temperature\n",
    "This notebook calculates the thermal energy in eV for a range of temperatures using the formula $E = kT$, where $k$ is the Boltzmann constant."
   ]
  },
  {
   "cell_type": "code",
   "execution_count": null,
   "id": "598deb77",
   "metadata": {},
   "outputs": [],
   "source": [
    "import numpy as np\n",
    "import matplotlib.pyplot as plt\n",
    "import pandas as pd\n",
    "\n",
    "# Boltzmann constant in eV/K\n",
    "k_B = 8.617333262145e-5  # eV/K\n",
    "\n",
    "# Generate temperature array from 100 K to 2000 K\n",
    "temperature_K = np.linspace(100, 2000, 100)\n",
    "energy_eV = k_B * temperature_K\n",
    "\n",
    "# Create a DataFrame\n",
    "df = pd.DataFrame({\n",
    "    \"Temperature (K)\": temperature_K,\n",
    "    \"Thermal Energy (eV)\": energy_eV\n",
    "})\n",
    "df.head()"
   ]
  },
  {
   "cell_type": "code",
   "execution_count": null,
   "id": "dfad9d0f",
   "metadata": {},
   "outputs": [],
   "source": [
    "# Plot the graph\n",
    "plt.figure(figsize=(8, 5))\n",
    "plt.plot(temperature_K, energy_eV, label='E = kT', color='blue')\n",
    "plt.xlabel(\"Temperature (K)\")\n",
    "plt.ylabel(\"Thermal Energy (eV)\")\n",
    "plt.title(\"Thermal Energy vs Temperature\")\n",
    "plt.grid(True)\n",
    "plt.legend()\n",
    "plt.tight_layout()\n",
    "plt.show()"
   ]
  },
    {
   "cell_type": "code",
   "execution_count": null,
   "id": "85e97303",
   "metadata": {},
   "outputs": [],
   "source": [
    "df"
   ]
  }
 ],
 "metadata": {},
 "nbformat": 4,
 "nbformat_minor": 5
}
