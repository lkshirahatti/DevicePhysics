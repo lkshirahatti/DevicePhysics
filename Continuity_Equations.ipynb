{
 "cells": [
  {
   "cell_type": "markdown",
   "metadata": {},
   "source": [
    "# Continuity Equations for Holes and Electrons\n",
    "The following equations describe the time rate of change of carrier concentrations due to flux, generation, and recombination processes."
   ]
  },
  {
   "cell_type": "markdown",
   "metadata": {},
   "source": [
    "## Hole Continuity Equation \n",
    "\n",
    "$$\n",
    "\\frac{\\partial p}{\\partial t} = -\\frac{\\partial F_p^+}{\\partial x} + g_p - \\frac{p}{\\tau_{pt}}\n",
    "$$\n",
    "\n",
    "- $p$: hole concentration (cm$^{-3}$)\n",
    "- $F_p^+$: hole flux (holes/cm$^2$·s)\n",
    "- $g_p$: generation rate of holes (holes/cm$^3$·s)\n",
    "- $\\tau_{pt}$: hole recombination lifetime (s)"
   ]
  },
  {
   "cell_type": "markdown",
   "metadata": {},
   "source": [
    "## Electron Continuity Equation \n",
    "\n",
    "$$\n",
    "\\frac{\\partial n}{\\partial t} = -\\frac{\\partial F_n^-}{\\partial x} + g_n - \\frac{n}{\\tau_{nt}}\n",
    "$$\n",
    "\n",
    "- $n$: electron concentration (cm$^{-3}$)\n",
    "- $F_n^-$: electron flux (electrons/cm$^2$·s)\n",
    "- $g_n$: generation rate of electrons (electrons/cm$^3$·s)\n",
    "- $\\tau_{nt}$: electron recombination lifetime (s)"
   ]
  },
  {
   "cell_type": "markdown",
   "metadata": {},
   "source": [
    "## Time-Dependent Diffusion Equations\n",
    "\n",
    "These represent the total current density from drift and diffusion:\n",
    "\n",
    "### Hole Current Density\n",
    "$$\n",
    "J_p = e \\mu_p p \\mathbf{E} - e D_p \\frac{\\partial p}{\\partial x} \n",
    "$$\n",
    "\n",
    "### Electron Current Density\n",
    "$$\n",
    "J_n = e \\mu_n n \\mathbf{E} + e D_n \\frac{\\partial n}{\\partial x} \n",
    "$$\n",
    "\n",
    "---\n",
    "\n",
    "## Time-Dependent Diffusion Equations\n",
    "\n",
    "These are the full PDEs describing the behavior of charge carriers in time and space:\n",
    "\n",
    "### For Holes:\n",
    "$$\n",
    "D_p \\frac{\\partial^2 p}{\\partial x^2}\n",
    "- \\mu_p \\left( \\mathbf{E} \\frac{\\partial p}{\\partial x} + p \\frac{\\partial \\mathbf{E}}{\\partial x} \\right)\n",
    "+ g_p - \\frac{p}{\\tau_{pt}} = \\frac{\\partial p}{\\partial t}\n",
    "$$\n",
    "\n",
    "### For Electrons:\n",
    "$$\n",
    "D_n \\frac{\\partial^2 n}{\\partial x^2}\n",
    "+ \\mu_n \\left( \\mathbf{E} \\frac{\\partial n}{\\partial x} + n \\frac{\\partial \\mathbf{E}}{\\partial x} \\right)\n",
    "+ g_n - \\frac{n}{\\tau_{nt}} = \\frac{\\partial n}{\\partial t}\n",
    "$$\n",
    "\n",
    "Where:\n",
    "- \\( $D_p, D_n$ \\): diffusion coefficients\n",
    "- \\( $\\mu_p, \\mu_n$ \\): mobilities\n",
    "- \\( $\\mathbf{E}$ \\): electric field\n",
    "- \\( $\\tau_{pt}, \\tau_{nt}$ \\): carrier lifetimes\n",
    "- \\( $g_p, g_n$ \\): generation rates\n",
    "- \\( p, n \\): hole and electron concentrations\n",
    "  \n",
    "## Excess Carrier Diffusion Equations\n",
    "\n",
    "The hole and electron concentrations are composed of the **thermal equilibrium** values and the **excess carrier concentrations**, given by:\n",
    "\n",
    "- \\( $p = p_0 + \\delta p$ \\)\n",
    "- \\( $n = n_0 + \\delta n$ \\)\n",
    "\n",
    "Here, \\( $p_0$ \\) and \\( $n_0$ \\) are the equilibrium hole and electron concentrations, and \\( $\\delta p$ \\), \\( $\\delta n$ \\) are the excess carriers.\n",
    "\n",
    "Since \\( $p_0$ \\) and \\( $n_0$ \\) are constants in time and space for a homogeneous semiconductor, the **time-dependent drift-diffusion equations** Above equations can be rewritten in terms of the excess concentrations:\n",
    "\n",
    "### For Excess Holes:\n",
    "\n",
    "$$\n",
    "D_p \\frac{\\partial^2 (\\delta p)}{\\partial x^2}\n",
    "- \\mu_p \\left( \\mathbf{E} \\frac{\\partial (\\delta p)}{\\partial x} + p \\frac{\\partial \\mathbf{E}}{\\partial x} \\right)\n",
    "+ g_p - \\frac{p}{\\tau_{pt}} = \\frac{\\partial (\\delta p)}{\\partial t} \n",
    "$$\n",
    "\n",
    "### For Excess Electrons:\n",
    "\n",
    "$$\n",
    "D_n \\frac{\\partial^2 (\\delta n)}{\\partial x^2}\n",
    "+ \\mu_n \\left( \\mathbf{E} \\frac{\\partial (\\delta n)}{\\partial x} + n \\frac{\\partial \\mathbf{E}}{\\partial x} \\right)\n",
    "+ g_n - \\frac{n}{\\tau_{nt}} = \\frac{\\partial (\\delta n)}{\\partial t} \n",
    "$$\n",
    "\n",
    "Where:\n",
    "- \\( $\\delta p$ \\): excess hole concentration\n",
    "- \\( $\\delta n$ \\): excess electron concentration"
   ]
  },
  {
   "cell_type": "code",
   "execution_count": null,
   "metadata": {},
   "outputs": [],
   "source": []
  }
 ],
 "metadata": {
  "kernelspec": {
   "display_name": "Python 3 (ipykernel)",
   "language": "python",
   "name": "python3"
  },
  "language_info": {
   "codemirror_mode": {
    "name": "ipython",
    "version": 3
   },
   "file_extension": ".py",
   "mimetype": "text/x-python",
   "name": "python",
   "nbconvert_exporter": "python",
   "pygments_lexer": "ipython3",
   "version": "3.10.12"
  }
 },
 "nbformat": 4,
 "nbformat_minor": 4
}
