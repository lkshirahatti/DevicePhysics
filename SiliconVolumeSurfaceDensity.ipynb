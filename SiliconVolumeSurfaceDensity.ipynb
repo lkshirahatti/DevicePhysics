{
 "cells": [
  {
   "cell_type": "code",
   "execution_count": 4,
   "id": "c5820d59",
   "metadata": {},
   "outputs": [
    {
     "data": {
      "text/plain": [
       "'Volume Density: 4.997e+22 atoms/cm^3'"
      ]
     },
     "execution_count": 4,
     "metadata": {},
     "output_type": "execute_result"
    }
   ],
   "source": [
    "# Constants\n",
    "a = 5.43e-8  # Lattice constant for silicon in cm\n",
    "\n",
    "# Volume Density (atoms/cm^3)\n",
    "atoms_per_unit_cell = 8  # Diamond cubic structure\n",
    "volume_unit_cell = a ** 3\n",
    "volume_density = atoms_per_unit_cell / volume_unit_cell\n",
    "f\"Volume Density: {volume_density:.3e} atoms/cm^3\"\n"
   ]
  },
  {
   "cell_type": "code",
   "execution_count": 5,
   "id": "ade060b0",
   "metadata": {},
   "outputs": [
    {
     "data": {
      "text/plain": [
       "'Surface Density (100): 6.783e+14 atoms/cm^2'"
      ]
     },
     "execution_count": 5,
     "metadata": {},
     "output_type": "execute_result"
    }
   ],
   "source": [
    "# Surface Density for (100) silicon (atoms/cm^2)\n",
    "atoms_in_surface_unit = 2\n",
    "area_surface_unit = a ** 2\n",
    "surface_density = atoms_in_surface_unit / area_surface_unit\n",
    "f\"Surface Density (100): {surface_density:.3e} atoms/cm^2\"\n"
   ]
  },
  {
   "cell_type": "code",
   "execution_count": null,
   "id": "2a47c3cb-e90e-4128-84a9-d4a8343dd1ee",
   "metadata": {},
   "outputs": [],
   "source": []
  }
 ],
 "metadata": {
  "kernelspec": {
   "display_name": "Python 3 (ipykernel)",
   "language": "python",
   "name": "python3"
  },
  "language_info": {
   "codemirror_mode": {
    "name": "ipython",
    "version": 3
   },
   "file_extension": ".py",
   "mimetype": "text/x-python",
   "name": "python",
   "nbconvert_exporter": "python",
   "pygments_lexer": "ipython3",
   "version": "3.10.12"
  }
 },
 "nbformat": 4,
 "nbformat_minor": 5
}
