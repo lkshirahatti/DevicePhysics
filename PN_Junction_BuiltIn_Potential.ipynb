{
 "cells": [
  {
   "cell_type": "markdown",
   "id": "a6441531",
   "metadata": {},
   "source": [
    "# PN Junction: Built-in Potential Barrier\n"
   ]
  },
  {
   "cell_type": "markdown",
   "id": "57efa2a6",
   "metadata": {},
   "source": [
    "## Built-in Potential Barrier\n",
    "If we assume that no voltage is applied across the pn junction, then the junction is in thermal equilibrium — the Fermi energy level is constant throughout the entire system."
   ]
  },
  {
   "cell_type": "markdown",
   "id": "d5d500e0",
   "metadata": {},
   "source": [
    "### Energy Band Diagram"
   ]
  },
  {
   "cell_type": "markdown",
   "id": "4315c39c",
   "metadata": {},
   "source": [
    "![Energy Band Diagram](https://github.com/lkshirahatti/DevicePhysics/blob/main/Images/PN_Energy_Band_Diagram.png?raw=true)"
   ]
  },
  {
   "cell_type": "markdown",
   "id": "3008244b",
   "metadata": {},
   "source": [
    "### Key Equations and Derivations"
   ]
  },
  {
   "cell_type": "markdown",
   "id": "ab01afa4",
   "metadata": {},
   "source": [
    "**Built-in Potential**:\n",
    "\n",
    "$$V_{bi} = |\\phi_{Fn}| + |\\phi_{Fp}|$$"
   ]
  },
  {
   "cell_type": "markdown",
   "id": "d3b3bfec",
   "metadata": {},
   "source": [
    "**Electron Concentration in n-region:**\n",
    "\n",
    "$$n_0 = N_c \\exp\\left(\\frac{-(E_c - E_F)}{kT}\\right)$$\n",
    "\n",
    "Or using intrinsic values:\n",
    "\n",
    "$$n_0 = n_i \\exp\\left(\\frac{E_F - E_{Fi}}{kT}\\right)$$"
   ]
  },
  {
   "cell_type": "markdown",
   "id": "07e63be3",
   "metadata": {},
   "source": [
    "Define $$e\\phi_{Fn} = E_{Fi} - E_F$$:\n",
    "\n",
    "$$n_0 = n_i \\exp\\left(\\frac{-e\\phi_{Fn}}{kT}\\right)$$"
   ]
  },
  {
   "cell_type": "markdown",
   "id": "1559ca2b",
   "metadata": {},
   "source": [
    "Taking natural log, with $$n_0 = N_d$$:\n",
    "\n",
    "$$\\phi_{Fn} = \\frac{-kT}{e} \\ln\\left(\\frac{N_d}{n_i}\\right)$$"
   ]
  },
  {
   "cell_type": "markdown",
   "id": "c948f4cc",
   "metadata": {},
   "source": [
    "**Hole Concentration in p-region**:\n",
    "\n",
    "$$p_0 = N_a = n_i \\exp\\left(\\frac{E_{Fi} - E_F}{kT}\\right)$$"
   ]
  },
  {
   "cell_type": "markdown",
   "id": "a44533c8",
   "metadata": {},
   "source": [
    "Define $$e\\phi_{Fp} = E_{Fi} - E_F$$:\n",
    "\n",
    "$$\\phi_{Fp} = \\frac{kT}{e} \\ln\\left(\\frac{N_a}{n_i}\\right)$$"
   ]
  },
  {
   "cell_type": "markdown",
   "id": "638339f0",
   "metadata": {},
   "source": [
    "### Built-in Potential Barrier:\n",
    "\n",
    "$$V_{bi} = \\frac{kT}{e} \\ln\\left(\\frac{N_d N_a}{n_i^2}\\right) = V_t \\ln\\left(\\frac{N_d N_a}{n_i^2}\\right)$$"
   ]
  },
  {
   "cell_type": "markdown",
   "metadata": {},
   "source": [
    "# Space Charge Width with Zero Biased\n",
    "\n",
    "$$\n",
    "x_p = \\frac{N_d x_n}{N_a}\n",
    "$$\n",
    "\n",
    "$$\n",
    "x_n = \\left\\{ \\frac{2 \\varepsilon_s V_{bi}}{e} \\left[ \\frac{N_a}{N_d} \\right] \\left[ \\frac{1}{N_a + N_d} \\right] \\right\\}^{1/2}\n",
    "$$\n",
    "\n",
    "$$\n",
    "x_p = \\left\\{ \\frac{2 \\varepsilon_s V_{bi}}{e} \\left[ \\frac{N_d}{N_a} \\right] \\left[ \\frac{1}{N_a + N_d} \\right] \\right\\}^{1/2}\n",
    "$$\n",
    "\n",
    "$$\n",
    "W = x_n + x_p\n",
    "$$\n",
    "\n",
    "$$\n",
    "W = \\left\\{ \\frac{2 \\varepsilon_s V_{bi}}{e} \\left[ \\frac{N_a + N_d}{N_a N_d} \\right] \\right\\}^{1/2}\n",
    "$$\n"
   ]
  },
{
   "cell_type": "markdown",
   "metadata": {},
   "source": [
    "# Space Charge Width with Reverse Bias\n",
    "\n",
    "$$\n",
    "W = \\left\\{ \\frac{2 \\varepsilon_s (V_{bi} + V_R)}{e} \\left[ \\frac{N_a + N_d}{N_a N_d} \\right] \\right\\}^{1/2}\n",
    "$$\n"
   ]
  },
{
      "cell_type": "markdown",
      "metadata": {},
      "source": [
        "# Maximum Electric Field in PN Junction\n",
        "\n",
        "From the built-in potential and reverse bias:\n",
        "\n",
        "$$\n",
        "E_{\\text{max}} = - \\left\\{ \\frac{2e(V_{bi} + V_R)}{\\varepsilon_s} \\left( \\frac{N_a N_d}{N_a + N_d} \\right) \\right\\}^{1/2}\n",
        "$$\n",
        "\n",
        "This expression represents the peak electric field at the metallurgical junction."
      ]
    },
    {
      "cell_type": "markdown",
      "metadata": {},
      "source": [
        "Alternatively, using the total space charge width $W$:\n",
        "\n",
        "$$\n",
        "E_{\\text{max}} = \\frac{-2(V_{bi} + V_R)}{W}\n",
        "$$\n",
        "\n",
        "where $W$ is the total depletion width."
      ]
    },
  {
   "cell_type": "code",
   "execution_count": null,
   "id": "99c73932-ba40-42fc-a562-e8637de9bf25",
   "metadata": {},
   "outputs": [],
   "source": []
  }
 ],
 "metadata": {
  "kernelspec": {
   "display_name": "Python 3 (ipykernel)",
   "language": "python",
   "name": "python3"
  },
  "language_info": {
   "codemirror_mode": {
    "name": "ipython",
    "version": 3
   },
   "file_extension": ".py",
   "mimetype": "text/x-python",
   "name": "python",
   "nbconvert_exporter": "python",
   "pygments_lexer": "ipython3",
   "version": "3.10.12"
  }
 },
 "nbformat": 4,
 "nbformat_minor": 5
}
