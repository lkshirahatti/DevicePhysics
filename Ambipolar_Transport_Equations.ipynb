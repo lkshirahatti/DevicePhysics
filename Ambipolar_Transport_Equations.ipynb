{
 "cells": [
  {
   "cell_type": "markdown",
   "metadata": {},
   "source": [
    "# Ambipolar Transport Equations\n",
    "\n",
    "This notebook documents the derivation and final form of the ambipolar transport equation, starting from the continuity equations and incorporating electric field considerations."
   ]
  },
  {
   "cell_type": "markdown",
   "metadata": {},
   "source": [
    "## Electric Field Decomposition\n",
    "When excess carriers are created, an internal electric field forms between electrons and holes:\n",
    "\n",
    "$$\n",
    "\\mathbf{E} = \\mathbf{E}_{app} + \\mathbf{E}_{int} \n",
    "$$\n",
    "\n",
    "where:\n",
    "- $\\mathbf{E}_{app}$: externally applied electric field\n",
    "- $\\mathbf{E}_{int}$: induced internal electric field"
   ]
  },
  {
   "cell_type": "markdown",
   "metadata": {},
   "source": [
    "## Poisson's Equation for Internal Field\n",
    "\n",
    "$$\n",
    "\\nabla \\cdot \\mathbf{E}_{int} = \\frac{e(\\delta p - \\delta n)}{\\epsilon_s} = \\frac{\\partial E_{int}}{\\partial x} \n",
    "$$\n",
    "- $\\epsilon_s$: permittivity of the semiconductor"
   ]
  },
  {
   "cell_type": "markdown",
   "metadata": {},
   "source": [
    "## Approximation: Weak Internal Field\n",
    "\n",
    "$$\n",
    "|\\mathbf{E}_{int}| \\ll |\\mathbf{E}_{app}| \n",
    "$$\n",
    "Assume quasi-neutrality: $\\delta p \\approx \\delta n$\n",
    "\n",
    "We then define:\n",
    "$$\n",
    "g_n = g_p \\equiv g \\quad \\text{and} \\quad R_n = R_p = R \n",
    "$$"
   ]
  },
  {
   "cell_type": "markdown",
   "metadata": {},
   "source": [
    "## Combined Excess Carrier Equation\n",
    "\n",
    "$$\n",
    "D' \\frac{\\partial^2 (\\delta n)}{\\partial x^2} + \\mu' \\mathbf{E} \\frac{\\partial (\\delta n)}{\\partial x} + g - R = \\frac{\\partial (\\delta n)}{\\partial t} \n",
    "$$\n",
    "- This is the **ambipolar transport equation**"
   ]
  },
  {
   "cell_type": "markdown",
   "metadata": {},
   "source": [
    "## Ambipolar Diffusion Coefficient and Mobility\n",
    "\n",
    "$$\n",
    "D' = \\frac{\\mu_n n D_p + \\mu_p p D_n}{\\mu_n n + \\mu_p p}\n",
    "$$\n",
    "\n",
    "$$\n",
    "\\mu' = \\frac{\\mu_n \\mu_p (p - n)}{\\mu_n n + \\mu_p p} \n",
    "$$\n",
    "\n",
    "Using Einstein relation:\n",
    "$$\n",
    "\\frac{\\mu_n}{D_n} = \\frac{\\mu_p}{D_p} = \\frac{e}{kT} \n",
    "$$\n",
    "\n",
    "The ambipolar diffusion coefficient becomes:\n",
    "$$\n",
    "D' = \\frac{D_n D_p (n + p)}{D_n n + D_p p} \n",
    "$$\n",
    "Note: $n$ and $p$ include the excess concentration $\\delta n$, so $D'$ is not constant."
   ]
  },
  {
   "cell_type": "markdown",
   "metadata": {},
   "source": [
    "# Limits of Extrinsic Doping and Low Injection\n",
    "\n",
    "This notebook summarizes how the ambipolar transport equation simplifies under low-injection and extrinsic doping conditions."
   ]
  },
  {
   "cell_type": "markdown",
   "metadata": {},
   "source": [
    "## Simplified Ambipolar Diffusion Coefficient\n",
    "From Equation (6.43), the ambipolar diffusion coefficient:\n",
    "\n",
    "$$\n",
    "D' = \\frac{D_n D_p[(n_0 + \\delta n) + (p_0 + \\delta n)]}{D_n (n_0 + \\delta n) + D_p (p_0 + \\delta n)} \n",
    "$$\n",
    "\n",
    "Assuming a p-type semiconductor with $p_0 \\gg n_0$ and $\\delta n \\ll p_0$, the coefficient reduces to:\n",
    "\n",
    "$$\n",
    "D' = D_n \n",
    "$$\n",
    "\n",
    "Similarly, the ambipolar mobility reduces to:\n",
    "$$\n",
    "\\mu' = \\mu_n \n",
    "$$"
   ]
  },
  {
   "cell_type": "markdown",
   "metadata": {},
   "source": [
    "## For n-type semiconductor:\n",
    "Assuming $n_0 \\gg p_0$ and $\\delta p \\ll n_0$:\n",
    "\n",
    "$$\n",
    "D' = D_p  \\quad \\mu' = -\\mu_p \n",
    "$$"
   ]
  },
  {
   "cell_type": "markdown",
   "metadata": {},
   "source": [
    "## Generation and Recombination Terms\n",
    "We use the expressions:\n",
    "\n",
    "$$\n",
    "g - R = g' - \\frac{\\delta n}{\\tau_{n0}}  \\quad \\text{(for electrons)}\n",
    "$$\n",
    "$$\n",
    "g - R = g' - \\frac{\\delta p}{\\tau_{p0}}  \\quad \\text{(for holes)}\n",
    "$$"
   ]
  },
  {
   "cell_type": "markdown",
   "metadata": {},
   "source": [
    "## Ambipolar Transport under Low Injection\n",
    "\n",
    "**For p-type semiconductor**:\n",
    "\n",
    "$$\n",
    "D_n \\frac{\\partial^2 (\\delta n)}{\\partial x^2} + \\mu_n \\mathbf{E} \\frac{\\partial (\\delta n)}{\\partial x} + g' - \\frac{\\delta n}{\\tau_{n0}} = \\frac{\\partial (\\delta n)}{\\partial t} \tag{1} \n",
    "$$\n",
    "\n",
    "**For n-type semiconductor**:\n",
    "\n",
    "$$\n",
    "D_p \\frac{\\partial^2 (\\delta p)}{\\partial x^2} - \\mu_p \\mathbf{E} \\frac{\\partial (\\delta p)}{\\partial x} + g' - \\frac{\\delta p}{\\tau_{p0}} = \\frac{\\partial (\\delta p)}{\\partial t} \tag{2} \n",
    "$$"
    "It is crucial to understand that the transport and recombination parameters in Equations (1) and (2) correspond to those of the minority carriers. These equations govern how excess minority carriers move and recombine over time and space due to drift and diffusion. Under the assumption of charge neutrality, the excess majority carrier concentration equals that of the minority carriers. As a result, the excess majority carriers move together with the minority carriers, and their behavior is dictated by the minority carrier properties. This ambipolar transport effect is fundamental in semiconductor physics and forms the foundation for analyzing and modeling the behavior of semiconductor devices."
   ]
  }
 ],
 "metadata": {
  "kernelspec": {
   "display_name": "Python 3 (ipykernel)",
   "language": "python",
   "name": "python3"
  },
  "language_info": {
   "codemirror_mode": {
    "name": "ipython",
    "version": 3
   },
   "file_extension": ".py",
   "mimetype": "text/x-python",
   "name": "python",
   "nbconvert_exporter": "python",
   "pygments_lexer": "ipython3",
   "version": "3.10.12"
  }
 },
 "nbformat": 4,
 "nbformat_minor": 4
}
