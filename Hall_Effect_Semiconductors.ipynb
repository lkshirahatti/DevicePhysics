{
 "cells": [
  {
   "cell_type": "markdown",
   "id": "b5df0a69",
   "metadata": {},
   "source": [
    "# Hall Effect in Semiconductors \n",
    " Source: Donald A. Neamen, *Semiconductor Physics and Devices: Basic Principles*, 4th Edition, McGraw-Hill Education, 2011. ISBN: 978-0073380643.\n",
    "\n",
    "This notebook explains the **Hall Effect** in semiconductors using key formulas and an example problem. The Hall Effect is used to determine whether a semiconductor is _n-type_ or _p-type_ and to measure the majority carrier concentration and mobility.\n"
   ]
  },
  {
   "cell_type": "markdown",
   "id": "3c4ece49",
   "metadata": {},
   "source": [
    "## 1. Force on Charge in Magnetic Field\n",
    "\n",
    "The force on a particle having a charge $q$ and moving in a magnetic field is given by:\n",
    "\n",
    "$$\n",
    "\\vec{F} = q \\vec{v} \\times \\vec{B}\n",
    "$$\n",
    "\n",
    "If $\\vec{B}$ is along the $z$ direction and $\\vec{v}$ is along the $x$ direction, the force is along $y$.\n"
   ]
  },
  {
   "cell_type": "markdown",
   "id": "02ca666e",
   "metadata": {},
   "source": [
    "## 2. Hall Field and Hall Voltage\n",
    "\n",
    "The Hall field $E_y$ is developed in the $y$ direction to balance the magnetic force:\n",
    "\n",
    "$$\n",
    "qE_y = qv_x B_z\n",
    "$$\n",
    "\n",
    "So the Hall field is:\n",
    "\n",
    "$$\n",
    "E_y = v_x B_z\n",
    "$$\n",
    "\n",
    "The Hall voltage is then:\n",
    "\n",
    "$$\n",
    "V_H = E_y W = v_x B_z W\n",
    "$$\n"
   ]
  },
  {
   "cell_type": "markdown",
   "id": "600a7ec6",
   "metadata": {},
   "source": [
    "## 3. Carrier Concentration for p-type and n-type\n",
    "\n",
    "For **p-type** semiconductor:\n",
    "\n",
    "$$\n",
    "v_{px} = \\frac{J_p}{qp} = \\frac{I_x}{(qp)(Wd)}\n",
    "$$\n",
    "\n",
    "Substituting into $V_H$ gives:\n",
    "\n",
    "$$\n",
    "V_H = \\frac{I_x B_z}{qpd} \\quad \\Rightarrow \\quad p = \\frac{I_x B_z}{q d V_H}\n",
    "$$\n",
    "\n",
    "For **n-type**, the Hall voltage is negative:\n",
    "\n",
    "$$\n",
    "V_H = -\\frac{I_x B_z}{qnd} \\quad \\Rightarrow \\quad n = \\frac{I_x B_z}{q d |V_H|}\n",
    "$$\n"
   ]
  },
  {
   "cell_type": "markdown",
   "id": "144e3cb3",
   "metadata": {},
   "source": [
    "## 4. Mobility Determination\n",
    "\n",
    "Once $n$ or $p$ is known, mobility can be calculated from:\n",
    "\n",
    "$$\n",
    "J = q \\mu_n n E \\quad \\Rightarrow \\quad \\mu_n = \\frac{J}{q n E}\n",
    "$$\n",
    "\n",
    "or using:\n",
    "\n",
    "$$\n",
    "\\mu_n = \\frac{I_x L}{q n V_x W d}\n",
    "$$\n"
   ]
  },
  {
   "cell_type": "markdown",
   "id": "617983c9",
   "metadata": {},
   "source": [
    "## 5. Example: Determine $n$ and $\\mu_n$\n",
    "\n",
    "Given:\n",
    "- $I_x = 1\\,\\text{mA} = 1.0 \\times 10^{-3}\\,\\text{A}$\n",
    "- $L = 0.1\\,\\text{cm}$, $W = 0.1\\,\\text{cm}$, $d = 10^{-3}\\,\\text{cm}$\n",
    "- $V_s = 12.5\\,\\text{V}$, $V_H = -6.25\\,\\text{mV} = -6.25 \\times 10^{-3}\\,\\text{V}$\n",
    "- $B_z = 500\\,\\text{gauss} = 5 \\times 10^{-2}\\,\\text{T}$\n",
    "- $q = 1.6 \\times 10^{-19}\\,\\text{C}$\n",
    "\n",
    "Then:\n",
    "\n",
    "$$\n",
    "n = \\frac{(1.0 \\times 10^{-3})(5 \\times 10^{-2})}{(1.6 \\times 10^{-19})(10^{-3})(6.25 \\times 10^{-3})} = 5 \\times 10^{21}\\,\\text{m}^{-3} = 5 \\times 10^{15}\\,\\text{cm}^{-3}\n",
    "$$\n",
    "\n",
    "$$\n",
    "\\mu_n = \\frac{(1.0 \\times 10^{-3})(0.1)}{(1.6 \\times 10^{-19})(5 \\times 10^{15})(12.5)(0.1)(10^{-3})} = 1000\\,\\text{cm}^2/\\text{V·s}\n",
    "$$\n"
   ]
  },
  {
   "cell_type": "code",
   "execution_count": null,
   "id": "a56c3278-aa6b-4fa3-b3f4-0911d4e61be7",
   "metadata": {},
   "outputs": [],
   "source": []
  }
 ],
 "metadata": {
  "kernelspec": {
   "display_name": "Python 3 (ipykernel)",
   "language": "python",
   "name": "python3"
  },
  "language_info": {
   "codemirror_mode": {
    "name": "ipython",
    "version": 3
   },
   "file_extension": ".py",
   "mimetype": "text/x-python",
   "name": "python",
   "nbconvert_exporter": "python",
   "pygments_lexer": "ipython3",
   "version": "3.10.12"
  }
 },
 "nbformat": 4,
 "nbformat_minor": 5
}
