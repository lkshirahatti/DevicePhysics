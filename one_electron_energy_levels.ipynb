{
 "cells": [
  {
   "cell_type": "markdown",
   "id": "f31b0110",
   "metadata": {},
   "source": [
    "\n",
    "# Energy Levels of a One-Electron Atom (Bohr Model)\n",
    "\n",
    "The energy of an electron in a hydrogen-like atom is given by the quantized formula:\n",
    "\n",
    "$$\n",
    "E_n = \\frac{-m_e e^4}{(4 \\pi \\varepsilon_0)^2 2 \\hbar^2 n^2} = \\frac{-13.58}{n^2} \\ \\text{eV}\n",
    "$$\n",
    "\n",
    "Where:\n",
    "- \\( E_n \\) = energy of the electron in the \\( n \\)-th orbit\n",
    "- \\( m_e \\) = electron rest mass \\( = 9.11 \\times 10^{-31} \\ \\text{kg} \\)\n",
    "- \\( e \\) = electron charge \\( = 1.602 \\times 10^{-19} \\ \\text{C} \\)\n",
    "- \\( \\varepsilon_0 \\) = permittivity of free space \\( = 8.85 \\times 10^{-12} \\ \\text{F/m} \\)\n",
    "- \\( \\hbar \\) = reduced Planck's constant \\( = 1.055 \\times 10^{-34} \\ \\text{J·s} \\)\n",
    "- \\( n \\) = principal quantum number (1, 2, 3...)\n",
    "\n",
   ]
  },
  {
   "cell_type": "code",
   "execution_count": 1,
   "id": "9c0373e5",
   "metadata": {},
   "outputs": [
    {
     "data": {
      "text/plain": [
       "{'E_1': -13.58, 'E_2': -3.4, 'E_3': -1.51}"
      ]
     },
     "execution_count": 1,
     "metadata": {},
     "output_type": "execute_result"
    }
   ],
   "source": [
    "\n",
    "# Energy level function for hydrogen-like atoms\n",
    "def one_electron_energy(n):\n",
    "    return -13.58 / n**2  # in eV\n",
    "\n",
    "# Calculate first 3 levels\n",
    "E_levels = {f\"E_{n}\": round(one_electron_energy(n), 2) for n in range(1, 4)}\n",
    "E_levels\n"
   ]
  },
  {
   "cell_type": "code",
   "execution_count": null,
   "id": "f51275d6-a500-49bf-9c80-dfc7c3f9fd17",
   "metadata": {},
   "outputs": [],
   "source": []
  }
 ],
 "metadata": {
  "kernelspec": {
   "display_name": "Python 3 (ipykernel)",
   "language": "python",
   "name": "python3"
  },
  "language_info": {
   "codemirror_mode": {
    "name": "ipython",
    "version": 3
   },
   "file_extension": ".py",
   "mimetype": "text/x-python",
   "name": "python",
   "nbconvert_exporter": "python",
   "pygments_lexer": "ipython3",
   "version": "3.10.12"
  }
 },
 "nbformat": 4,
 "nbformat_minor": 5
}
