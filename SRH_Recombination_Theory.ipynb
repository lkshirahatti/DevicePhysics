{
 "cells": [
  {
   "cell_type": "markdown",
   "metadata": {},
   "source": [
    "# Shockley–Read–Hall (SRH) Theory of Recombination\n",
    "\n",
    "Shockley–Read–Hall (SRH) theory explains how charge carriers recombine through trap states (defects) within the bandgap of a semiconductor. These trap states are also called **recombination centers**."
   ]
  },
  {
   "cell_type": "markdown",
   "metadata": {},
   "source": [
    "## Basic Processes\n",
    "The trap can capture or emit both electrons and holes. For an acceptor-type trap, four fundamental processes exist:\n",
    "- **Process 1:** Electron capture from the conduction band\n",
    "- **Process 2:** Electron emission to the conduction band\n",
    "- **Process 3:** Hole capture from the valence band\n",
    "- **Process 4:** Hole emission to the valence band"
   ]
  },
  {
   "cell_type": "markdown",
   "metadata": {},
   "source": [
    "## Electron Capture Rate\n",
    "$$\n",
    "R_{cn} = C_n N_t [1 - f_F(E_t)] n \n",
    "$$\n",
    "Fermi function:\n",
    "$$\n",
    "f_F(E_t) = \\frac{1}{1 + \\exp\\left(\\frac{E_t - E_F}{kT}\\right)} \n",
    "$$"
   ]
  },
  {
   "cell_type": "markdown",
   "metadata": {},
   "source": [
    "## Electron Emission Rate\n",
    "$$\n",
    "R_{en} = E_n N_t f_F(E_t) \n",
    "$$\n",
    "In thermal equilibrium:\n",
    "$$\n",
    "R_{en} = R_{on} \\Rightarrow E_n = n' C_n,\\quad n' = N_c \\exp\\left(-\\frac{E_c - E_t}{kT}\\right) \n",
    "$$"
   ]
  },
  {
   "cell_type": "markdown",
   "metadata": {},
   "source": [
    "## Net Recombination Rate (Electrons)\n",
    "$$\n",
    "R_n = C_n N_t [(1 - f_F(E_t)) n - n' f_F(E_t)] \n",
    "$$"
   ]
  },
  {
   "cell_type": "markdown",
   "metadata": {},
   "source": [
    "## Net Recombination Rate (Holes)\n",
    "$$\n",
    "R_p = C_p N_t [p f_F(E_t) - p' (1 - f_F(E_t))],\\quad p' = N_v \\exp\\left(-\\frac{E_t - E_v}{kT}\\right) \n",
    "$$"
   ]
  },
  {
   "cell_type": "markdown",
   "metadata": {},
   "source": [
    "## Final SRH Recombination Rate\n",
    "Assuming $R_n = R_p$:\n",
    "$$\n",
    "R = R_n = R_p = \\frac{C_n C_p N_t (np - n_i^2)}{C_n(n + n') + C_p(p + p')} \n",
    "$$"
   ]
  },
  {
   "cell_type": "markdown",
   "metadata": {},
   "source": [
    "## Excess Carrier Lifetime\n",
    "$$\n",
    "R = \\frac{\\delta n}{\\tau} \n",
    "$$\n",
    "Where:\n",
    "- $\\delta n$: excess carrier concentration\n",
    "- $\\tau$: excess carrier lifetime"
   ]
  },
  {
   "cell_type": "code",
   "execution_count": null,
   "metadata": {},
   "outputs": [],
   "source": []
  }
 ],
 "metadata": {
  "kernelspec": {
   "display_name": "Python 3 (ipykernel)",
   "language": "python",
   "name": "python3"
  },
  "language_info": {
   "codemirror_mode": {
    "name": "ipython",
    "version": 3
   },
   "file_extension": ".py",
   "mimetype": "text/x-python",
   "name": "python",
   "nbconvert_exporter": "python",
   "pygments_lexer": "ipython3",
   "version": "3.10.12"
  }
 },
 "nbformat": 4,
 "nbformat_minor": 4
}
